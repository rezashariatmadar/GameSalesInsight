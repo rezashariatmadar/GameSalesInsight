{
 "cells": [
  {
   "cell_type": "code",
   "execution_count": null,
   "metadata": {
    "vscode": {
     "languageId": "plaintext"
    }
   },
   "outputs": [],
   "source": [
    "import pandas as pd\n",
    "import numpy as np\n",
    "\n",
    "# Load the data\n",
    "df = pd.read_csv('vgchartz-2024.csv')\n",
    "\n",
    "# Create aggregated dataframe by title\n",
    "df_aggregated = df.groupby('title').agg({\n",
    "    'genre': 'first',  # Take the first genre (games usually keep same genre across platforms)\n",
    "    'publisher': 'first',  # Take the first publisher\n",
    "    'developer': 'first',  # Take the first developer\n",
    "    'critic_score': 'mean',  # Average critic score across platforms\n",
    "    'total_sales': 'sum',  # Sum of sales across platforms\n",
    "    'na_sales': 'sum',\n",
    "    'jp_sales': 'sum',\n",
    "    'pal_sales': 'sum',\n",
    "    'other_sales': 'sum',\n",
    "    'console': lambda x: ', '.join(sorted(set(x))),  # List all platforms\n",
    "    'release_date': 'min'  # First release date\n",
    "}).reset_index()\n",
    "\n",
    "# Add new features\n",
    "df_aggregated['platform_count'] = df_aggregated['console'].str.count(',') + 1\n",
    "df_aggregated['sales_ratio_na'] = df_aggregated['na_sales'] / df_aggregated['total_sales']\n",
    "df_aggregated['sales_ratio_jp'] = df_aggregated['jp_sales'] / df_aggregated['total_sales']\n",
    "df_aggregated['sales_ratio_pal'] = df_aggregated['pal_sales'] / df_aggregated['total_sales']\n",
    "df_aggregated['sales_ratio_other'] = df_aggregated['other_sales'] / df_aggregated['total_sales']\n",
    "\n",
    "# Display the first few rows and basic information\n",
    "print(\"Original dataset shape:\", df.shape)\n",
    "print(\"\\nAggregated dataset shape:\", df_aggregated.shape)\n",
    "print(\"\\nFirst few rows of aggregated data:\")\n",
    "print(df_aggregated.head())\n",
    "print(\"\\nBasic statistics of numerical columns:\")\n",
    "print(df_aggregated.describe())"
   ]
  }
 ],
 "metadata": {
  "language_info": {
   "name": "python"
  }
 },
 "nbformat": 4,
 "nbformat_minor": 2
}
